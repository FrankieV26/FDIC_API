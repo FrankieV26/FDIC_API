{
 "cells": [
  {
   "cell_type": "code",
   "execution_count": null,
   "id": "6b499809",
   "metadata": {},
   "outputs": [],
   "source": [
    "import requests\n",
    "import json\n",
    "import pandas as pd\n",
    "import numpy as np"
   ]
  },
  {
   "cell_type": "code",
   "execution_count": null,
   "id": "505f4de8",
   "metadata": {},
   "outputs": [],
   "source": [
    "def get_fdic():\n",
    "    url = 'https://banks.data.fdic.gov/api/institutions'\n",
    "    headers = {\n",
    "        'fields': 'CERT,NAME,ADDRESS,CITY,STALP,ZIP,RSSDHCR,FED_RSSD,NAMEHCR',\n",
    "        'limit':10000,\n",
    "        'offset':0,\n",
    "    }\n",
    "    \n",
    "    json_object_data = []\n",
    "    total_rows = 1 #dummy figure until overwritten\n",
    "    while total_rows > headers['offset']:\n",
    "        response = requests.get(url,params=headers)\n",
    "        json_object = json.loads(response.text)\n",
    "        json_object_data += json_object['data']\n",
    "\n",
    "        total_rows = int(json_object['meta']['total'])\n",
    "        headers['offset'] += headers['limit']\n",
    "    return json_object_data"
   ]
  },
  {
   "cell_type": "code",
   "execution_count": null,
   "id": "6893cb35",
   "metadata": {},
   "outputs": [],
   "source": [
    "json_object_data = get_fdic()\n",
    "data = []\n",
    "for listing in json_object_data:\n",
    "    data.append(listing['data'])\n",
    "df = pd.DataFrame(data)\n",
    "df['Mapping_Name'] = df.apply(lambda x:x['NAME'] if x['NAMEHCR'] is np.nan else x['NAMEHCR'],axis=1)"
   ]
  }
 ],
 "metadata": {
  "kernelspec": {
   "display_name": "Python 3 (ipykernel)",
   "language": "python",
   "name": "python3"
  },
  "language_info": {
   "codemirror_mode": {
    "name": "ipython",
    "version": 3
   },
   "file_extension": ".py",
   "mimetype": "text/x-python",
   "name": "python",
   "nbconvert_exporter": "python",
   "pygments_lexer": "ipython3",
   "version": "3.9.12"
  }
 },
 "nbformat": 4,
 "nbformat_minor": 5
}
